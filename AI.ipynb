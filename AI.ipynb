{
  "nbformat": 4,
  "nbformat_minor": 0,
  "metadata": {
    "colab": {
      "provenance": [],
      "mount_file_id": "1Q0n5NBNiw5UTe7Vc-dBE5d8YZkoEgoJE",
      "authorship_tag": "ABX9TyPvEh+bil7ip51B7QbYF20+",
      "include_colab_link": true
    },
    "kernelspec": {
      "name": "python3",
      "display_name": "Python 3"
    },
    "language_info": {
      "name": "python"
    }
  },
  "cells": [
    {
      "cell_type": "markdown",
      "metadata": {
        "id": "view-in-github",
        "colab_type": "text"
      },
      "source": [
        "<a href=\"https://colab.research.google.com/github/Isam50/SQA_21S21443/blob/main/AI.ipynb\" target=\"_parent\"><img src=\"https://colab.research.google.com/assets/colab-badge.svg\" alt=\"Open In Colab\"/></a>"
      ]
    },
    {
      "cell_type": "code",
      "execution_count": null,
      "metadata": {
        "id": "cljV-yJ25AWB",
        "colab": {
          "base_uri": "https://localhost:8080/"
        },
        "outputId": "e2e4cb75-e297-4c18-b9f3-591f8f998dc6"
      },
      "outputs": [
        {
          "output_type": "stream",
          "name": "stdout",
          "text": [
            "Mounted at /content/drive\n"
          ]
        }
      ],
      "source": [
        "from google.colab import drive\n",
        "drive.mount('/content/drive', force_remount=True)"
      ]
    },
    {
      "cell_type": "code",
      "source": [
        "# Define paths to the dataset\n",
        "train_dir = '/content/drive/MyDrive/BinaryClass/train'\n",
        "test_dir = '/content/drive/MyDrive/BinaryClass/test'"
      ],
      "metadata": {
        "id": "Orav-tNyBhys"
      },
      "execution_count": null,
      "outputs": []
    },
    {
      "cell_type": "code",
      "source": [
        "import os\n",
        "print(len(os.listdir('/content/drive/MyDrive/BinaryClass/train/birds')))\n",
        "print(len(os.listdir('/content/drive/MyDrive/BinaryClass/train/drones')))\n",
        "print(len(os.listdir('/content/drive/MyDrive/BinaryClass/test/birds')))\n",
        "print(len(os.listdir('/content/drive/MyDrive/BinaryClass/test/drones')))"
      ],
      "metadata": {
        "colab": {
          "base_uri": "https://localhost:8080/"
        },
        "id": "kUdcWkrwBxJK",
        "outputId": "886829f0-b5b4-459b-a128-f10631a9d445"
      },
      "execution_count": null,
      "outputs": [
        {
          "output_type": "stream",
          "name": "stdout",
          "text": [
            "165\n",
            "165\n",
            "34\n",
            "34\n"
          ]
        }
      ]
    },
    {
      "cell_type": "code",
      "source": [
        "import tensorflow as tf\n",
        "from tensorflow.keras.preprocessing.image import ImageDataGenerator\n",
        "\n",
        "# Create ImageDataGenerator for training set\n",
        "train_datagen = ImageDataGenerator(\n",
        "    rescale=1./255,\n",
        "    validation_split=0.2  # Split 20% of the images for validation\n",
        ")\n",
        "\n",
        "# Load and prepare training data\n",
        "train_data = train_datagen.flow_from_directory(\n",
        "    train_dir,\n",
        "    target_size=(256,256),\n",
        "    batch_size=32,\n",
        "    class_mode='binary',  # 'binary' for binary classification (birds vs. drones)\n",
        "    subset='training'  # Specify 'training' for the training set\n",
        ")\n",
        "\n",
        "# Create ImageDataGenerator for validation set\n",
        "validation_datagen = ImageDataGenerator(\n",
        "    rescale=1./255,\n",
        "    validation_split=0.2  # Note: Using the same validation split as in the training set\n",
        ")\n",
        "\n",
        "# Load and prepare validation data\n",
        "validation_data = validation_datagen.flow_from_directory(\n",
        "    train_dir,\n",
        "    target_size=(256,256),\n",
        "    batch_size=32,\n",
        "    class_mode='binary',\n",
        "    subset='validation'  # Specify 'validation' for the validation set\n",
        ")"
      ],
      "metadata": {
        "colab": {
          "base_uri": "https://localhost:8080/"
        },
        "id": "v0NasLOLDnJd",
        "outputId": "79695f2e-d547-47a4-ea49-72cec73921c1"
      },
      "execution_count": null,
      "outputs": [
        {
          "output_type": "stream",
          "name": "stdout",
          "text": [
            "Found 262 images belonging to 2 classes.\n",
            "Found 64 images belonging to 2 classes.\n"
          ]
        }
      ]
    },
    {
      "cell_type": "code",
      "source": [
        "from tensorflow import keras\n",
        "from keras import Sequential\n",
        "from keras.layers import Dense,Conv2D,MaxPooling2D,Flatten\n",
        "from keras.layers import BatchNormalization # import BatchNormalization\n",
        "from tensorflow.keras.layers import Dropout\n",
        "\n",
        "resnet_model = Sequential()    #ResNet50 is a pre-trained model\n",
        "pretrained_model = tf.keras.applications.ResNet50(include_top = False, #because i have my own image of a diff dimension\n",
        "                                                input_shape = (256,256,3),\n",
        "                                                pooling = 'max', classes = 2,\n",
        "                                                weights = 'imagenet')\n",
        "for layer in pretrained_model.layers:\n",
        "    layer.trainable = False  #all layers in the Resnet50 is not trainable; keep those weights; I am going to add my own i/p and other layers\n",
        "\n",
        "resnet_model.add(pretrained_model)\n",
        "\n",
        "\n",
        "resnet_model.add(Flatten())\n",
        "\n",
        "resnet_model.add(Dense(512,activation='relu')) #feature reduction\n",
        "\n",
        "\n",
        "resnet_model.add(Dense(1,activation='sigmoid'))  #output layer"
      ],
      "metadata": {
        "id": "lEAeyEM9E0G8"
      },
      "execution_count": null,
      "outputs": []
    },
    {
      "cell_type": "code",
      "source": [
        "resnet_model.summary()"
      ],
      "metadata": {
        "colab": {
          "base_uri": "https://localhost:8080/"
        },
        "id": "2Tz7Vr29F-xi",
        "outputId": "1b840ec6-c5a2-4f20-b9af-92713ede8b23"
      },
      "execution_count": null,
      "outputs": [
        {
          "output_type": "stream",
          "name": "stdout",
          "text": [
            "Model: \"sequential_2\"\n",
            "_________________________________________________________________\n",
            " Layer (type)                Output Shape              Param #   \n",
            "=================================================================\n",
            " resnet50 (Functional)       (None, 2048)              23587712  \n",
            "                                                                 \n",
            " flatten_2 (Flatten)         (None, 2048)              0         \n",
            "                                                                 \n",
            " dense_4 (Dense)             (None, 512)               1049088   \n",
            "                                                                 \n",
            " dense_5 (Dense)             (None, 1)                 513       \n",
            "                                                                 \n",
            "=================================================================\n",
            "Total params: 24637313 (93.98 MB)\n",
            "Trainable params: 1049601 (4.00 MB)\n",
            "Non-trainable params: 23587712 (89.98 MB)\n",
            "_________________________________________________________________\n"
          ]
        }
      ]
    },
    {
      "cell_type": "code",
      "source": [
        "from keras.optimizers import Adam\n",
        "resnet_model.compile(optimizer=Adam(learning_rate=0.001),loss='binary_crossentropy',metrics=['accuracy']) #binary_crossentropy - binary classification"
      ],
      "metadata": {
        "id": "MEJhOrY0FUD3"
      },
      "execution_count": null,
      "outputs": []
    },
    {
      "cell_type": "code",
      "source": [
        "history = resnet_model.fit(train_data, epochs=5, validation_data=validation_data)"
      ],
      "metadata": {
        "colab": {
          "base_uri": "https://localhost:8080/"
        },
        "id": "W7SwsFUnFpom",
        "outputId": "169186b6-7c92-4493-be57-55c5ac6a070e"
      },
      "execution_count": null,
      "outputs": [
        {
          "output_type": "stream",
          "name": "stdout",
          "text": [
            "Epoch 1/5\n",
            "9/9 [==============================] - 91s 10s/step - loss: 3.9214 - accuracy: 0.5496 - val_loss: 3.7658 - val_accuracy: 0.5000\n",
            "Epoch 2/5\n",
            "9/9 [==============================] - 87s 10s/step - loss: 1.9690 - accuracy: 0.5420 - val_loss: 1.3027 - val_accuracy: 0.5156\n",
            "Epoch 3/5\n",
            "9/9 [==============================] - 84s 10s/step - loss: 1.1807 - accuracy: 0.5878 - val_loss: 0.9705 - val_accuracy: 0.5781\n",
            "Epoch 4/5\n",
            "9/9 [==============================] - 87s 10s/step - loss: 1.0256 - accuracy: 0.5954 - val_loss: 0.7860 - val_accuracy: 0.6250\n",
            "Epoch 5/5\n",
            "9/9 [==============================] - 89s 11s/step - loss: 0.7284 - accuracy: 0.6603 - val_loss: 0.6684 - val_accuracy: 0.6719\n"
          ]
        }
      ]
    },
    {
      "cell_type": "code",
      "source": [
        "import matplotlib.pyplot as plt\n",
        "\n",
        "plt.plot(history.history['accuracy'],color='red',label='train')\n",
        "plt.plot(history.history['val_accuracy'],color='blue',label='validation')\n",
        "plt.legend()\n",
        "plt.show()"
      ],
      "metadata": {
        "colab": {
          "base_uri": "https://localhost:8080/",
          "height": 430
        },
        "id": "v0LnVAr9Gz9S",
        "outputId": "b069daa6-f026-4bde-dd4e-b19a0c533e74"
      },
      "execution_count": null,
      "outputs": [
        {
          "output_type": "display_data",
          "data": {
            "text/plain": [
              "<Figure size 640x480 with 1 Axes>"
            ],
            "image/png": "[encoded data removed]"
          },
          "metadata": {}
        }
      ]
    },
    {
      "cell_type": "code",
      "source": [
        "plt.plot(history.history['loss'],color='red',label='train')\n",
        "plt.plot(history.history['val_loss'],color='blue',label='validation')\n",
        "plt.legend()\n",
        "plt.show()"
      ],
      "metadata": {
        "colab": {
          "base_uri": "https://localhost:8080/",
          "height": 430
        },
        "id": "BcdMsaKhG3Zn",
        "outputId": "0e9dc7a8-a43b-4172-db4a-68aa1218eb4a"
      },
      "execution_count": null,
      "outputs": [
        {
          "output_type": "display_data",
          "data": {
            "text/plain": [
              "<Figure size 640x480 with 1 Axes>"
            ],
            "image/png": "[encoded data removed]"
          },
          "metadata": {}
        }
      ]
    },
    {
      "cell_type": "code",
      "source": [
        "test_datagen = ImageDataGenerator(rescale=1./255)\n",
        "test_data = test_datagen.flow_from_directory(\n",
        "    test_dir,\n",
        "    target_size=(256,256),\n",
        "    batch_size=32,\n",
        "    class_mode='binary'\n",
        ")"
      ],
      "metadata": {
        "colab": {
          "base_uri": "https://localhost:8080/"
        },
        "id": "iaMQZB49QDW5",
        "outputId": "abf19d81-1f2a-4ad0-d047-44346415012e"
      },
      "execution_count": null,
      "outputs": [
        {
          "output_type": "stream",
          "name": "stdout",
          "text": [
            "Found 66 images belonging to 2 classes.\n"
          ]
        }
      ]
    },
    {
      "cell_type": "code",
      "source": [
        "#predict the test data\n",
        "predictions = resnet_model.predict(test_data)\n",
        "print(predictions)"
      ],
      "metadata": {
        "colab": {
          "base_uri": "https://localhost:8080/"
        },
        "id": "Wxota4kXQN_W",
        "outputId": "df5c6ab7-e6ca-4114-8fe7-10d9bc8158f4"
      },
      "execution_count": null,
      "outputs": [
        {
          "output_type": "stream",
          "name": "stdout",
          "text": [
            "3/3 [==============================] - 19s 5s/step\n",
            "[[0.13593727]\n",
            " [0.6601417 ]\n",
            " [0.28421056]\n",
            " [0.36201534]\n",
            " [0.7243863 ]\n",
            " [0.15874039]\n",
            " [0.10175688]\n",
            " [0.460797  ]\n",
            " [0.2926062 ]\n",
            " [0.62187886]\n",
            " [0.14470458]\n",
            " [0.74159247]\n",
            " [0.17739578]\n",
            " [0.1714714 ]\n",
            " [0.52960074]\n",
            " [0.08838927]\n",
            " [0.11389899]\n",
            " [0.52960074]\n",
            " [0.20378642]\n",
            " [0.59858847]\n",
            " [0.1519921 ]\n",
            " [0.58860475]\n",
            " [0.08836351]\n",
            " [0.556133  ]\n",
            " [0.22087806]\n",
            " [0.36553606]\n",
            " [0.44771796]\n",
            " [0.3566574 ]\n",
            " [0.12491164]\n",
            " [0.92474085]\n",
            " [0.11546526]\n",
            " [0.9569387 ]\n",
            " [0.1257272 ]\n",
            " [0.11317563]\n",
            " [0.15851195]\n",
            " [0.10798593]\n",
            " [0.86074364]\n",
            " [0.127553  ]\n",
            " [0.98555166]\n",
            " [0.15614825]\n",
            " [0.83827156]\n",
            " [0.06765337]\n",
            " [0.4739642 ]\n",
            " [0.08859744]\n",
            " [0.40863168]\n",
            " [0.560042  ]\n",
            " [0.15238571]\n",
            " [0.0780981 ]\n",
            " [0.13808148]\n",
            " [0.22302817]\n",
            " [0.21696682]\n",
            " [0.8727479 ]\n",
            " [0.164428  ]\n",
            " [0.88150513]\n",
            " [0.00292177]\n",
            " [0.31807506]\n",
            " [0.10880154]\n",
            " [0.17744225]\n",
            " [0.69297725]\n",
            " [0.41728583]\n",
            " [0.18881498]\n",
            " [0.13762203]\n",
            " [0.19649267]\n",
            " [0.12527432]\n",
            " [0.2962672 ]\n",
            " [0.96888214]]\n"
          ]
        }
      ]
    },
    {
      "cell_type": "code",
      "source": [
        "len(predictions)"
      ],
      "metadata": {
        "colab": {
          "base_uri": "https://localhost:8080/"
        },
        "id": "tOjpOLkPBIr7",
        "outputId": "89b58184-a7ef-47a2-e968-5df761b9276f"
      },
      "execution_count": null,
      "outputs": [
        {
          "output_type": "execute_result",
          "data": {
            "text/plain": [
              "66"
            ]
          },
          "metadata": {},
          "execution_count": 26
        }
      ]
    },
    {
      "cell_type": "code",
      "source": [
        "from sklearn.metrics import confusion_matrix, classification_report\n",
        "\n",
        "# Assuming you have ground truth labels (true_labels) and predicted labels (predictions)\n",
        "true_labels = test_data.classes\n",
        "predicted_labels = (predictions > 0.5).astype(int)  # Adjust the threshold as needed\n",
        "\n",
        "# Calculate confusion matrix\n",
        "cm = confusion_matrix(true_labels, predicted_labels)\n",
        "\n",
        "# Print confusion matrix\n",
        "print(\"Confusion Matrix:\")\n",
        "print(cm)\n",
        "\n",
        "# Print classification report\n",
        "print(\"Classification Report:\")\n",
        "print(classification_report(true_labels, predicted_labels))"
      ],
      "metadata": {
        "colab": {
          "base_uri": "https://localhost:8080/"
        },
        "id": "GQ7buA7GBPIg",
        "outputId": "af7a4e12-f38e-417b-d56e-c1e17f0bab5e"
      },
      "execution_count": null,
      "outputs": [
        {
          "output_type": "stream",
          "name": "stdout",
          "text": [
            "Confusion Matrix:\n",
            "[[22 11]\n",
            " [25  8]]\n",
            "Classification Report:\n",
            "              precision    recall  f1-score   support\n",
            "\n",
            "           0       0.47      0.67      0.55        33\n",
            "           1       0.42      0.24      0.31        33\n",
            "\n",
            "    accuracy                           0.45        66\n",
            "   macro avg       0.44      0.45      0.43        66\n",
            "weighted avg       0.44      0.45      0.43        66\n",
            "\n"
          ]
        }
      ]
    }
  ]
}