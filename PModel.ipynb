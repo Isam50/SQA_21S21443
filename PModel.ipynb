{
  "nbformat": 4,
  "nbformat_minor": 0,
  "metadata": {
    "colab": {
      "provenance": [],
      "mount_file_id": "1KSsCTz07qBU5HhruP1dJfZib6e3bnV1h",
      "authorship_tag": "ABX9TyN9xv3XNNS2W4qs9Uv5Cx1c",
      "include_colab_link": true
    },
    "kernelspec": {
      "name": "python3",
      "display_name": "Python 3"
    },
    "language_info": {
      "name": "python"
    }
  },
  "cells": [
    {
      "cell_type": "markdown",
      "metadata": {
        "id": "view-in-github",
        "colab_type": "text"
      },
      "source": [
        "<a href=\"https://colab.research.google.com/github/Isam50/SQA_21S21443/blob/main/PModel.ipynb\" target=\"_parent\"><img src=\"https://colab.research.google.com/assets/colab-badge.svg\" alt=\"Open In Colab\"/></a>"
      ]
    },
    {
      "cell_type": "code",
      "execution_count": 23,
      "metadata": {
        "colab": {
          "base_uri": "https://localhost:8080/"
        },
        "id": "AOXCIgodCLVP",
        "outputId": "3b2369b0-636e-42fc-999e-7d8e4797a8ff"
      },
      "outputs": [
        {
          "output_type": "stream",
          "name": "stdout",
          "text": [
            "Mounted at /content/drive\n"
          ]
        }
      ],
      "source": [
        "from google.colab import drive\n",
        "drive.mount('/content/drive', force_remount=True)"
      ]
    },
    {
      "cell_type": "code",
      "source": [
        "# Define paths to the dataset\n",
        "train_dir = '/content/drive/MyDrive/BinaryClass/train'\n",
        "test_dir = '/content/drive/MyDrive/BinaryClass/test'"
      ],
      "metadata": {
        "id": "mHNuNBnbDngB"
      },
      "execution_count": 24,
      "outputs": []
    },
    {
      "cell_type": "code",
      "source": [
        "import os\n",
        "print(len(os.listdir('/content/drive/MyDrive/BinaryClass/train/birds')))\n",
        "print(len(os.listdir('/content/drive/MyDrive/BinaryClass/train/drones')))\n",
        "print(len(os.listdir('/content/drive/MyDrive/BinaryClass/test/birds')))\n",
        "print(len(os.listdir('/content/drive/MyDrive/BinaryClass/test/drones')))"
      ],
      "metadata": {
        "colab": {
          "base_uri": "https://localhost:8080/"
        },
        "id": "rWL3kppQDvrB",
        "outputId": "a84011be-25b1-4f31-f01c-9708b19ff9cd"
      },
      "execution_count": 25,
      "outputs": [
        {
          "output_type": "stream",
          "name": "stdout",
          "text": [
            "165\n",
            "165\n",
            "34\n",
            "34\n"
          ]
        }
      ]
    },
    {
      "cell_type": "code",
      "source": [
        "import tensorflow as tf\n",
        "from tensorflow.keras.preprocessing.image import ImageDataGenerator\n",
        "\n",
        "# Create ImageDataGenerator for training set\n",
        "train_datagen = ImageDataGenerator(\n",
        "    rescale=1./255,\n",
        "    validation_split=0.2  # Split 20% of the images for validation\n",
        ")\n",
        "\n",
        "# Load and prepare training data\n",
        "train_data = train_datagen.flow_from_directory(\n",
        "    train_dir,\n",
        "    target_size=(256,256),\n",
        "    batch_size=32,\n",
        "    class_mode='binary',  # 'binary' for binary classification (birds vs. drones)\n",
        "    subset='training'  # Specify 'training' for the training set\n",
        ")\n",
        "\n",
        "# Create ImageDataGenerator for validation set\n",
        "validation_datagen = ImageDataGenerator(\n",
        "    rescale=1./255,\n",
        "    validation_split=0.2  # Note: Using the same validation split as in the training set\n",
        ")\n",
        "\n",
        "# Load and prepare validation data\n",
        "validation_data = validation_datagen.flow_from_directory(\n",
        "    train_dir,\n",
        "    target_size=(256,256),\n",
        "    batch_size=32,\n",
        "    class_mode='binary',\n",
        "    subset='validation'  # Specify 'validation' for the validation set\n",
        ")"
      ],
      "metadata": {
        "colab": {
          "base_uri": "https://localhost:8080/"
        },
        "id": "fdKrYTm7D_cc",
        "outputId": "d72fe330-0206-4533-9b91-98f5d26c50c8"
      },
      "execution_count": 26,
      "outputs": [
        {
          "output_type": "stream",
          "name": "stdout",
          "text": [
            "Found 262 images belonging to 2 classes.\n",
            "Found 64 images belonging to 2 classes.\n"
          ]
        }
      ]
    },
    {
      "cell_type": "code",
      "source": [
        "from tensorflow import keras\n",
        "from keras import Sequential\n",
        "from keras.layers import Dense,Conv2D,MaxPooling2D,Flatten\n",
        "from keras.layers import BatchNormalization # import BatchNormalization\n",
        "from tensorflow.keras.layers import Dropout\n",
        "\n",
        "# create CNN model\n",
        "\n",
        "model = Sequential()\n",
        "\n",
        "model.add(Conv2D(32,kernel_size=(3,3),padding='valid',activation='relu',input_shape=(256,256,3)))  # 32 filters\n",
        "model.add(BatchNormalization())  # added to reduce overfitting\n",
        "model.add(MaxPooling2D(pool_size=(2,2),strides=2,padding='valid'))\n",
        "\n",
        "model.add(Flatten())\n",
        "\n",
        "model.add(Dense(64,activation='relu')) #feature reduction\n",
        "model.add(Dropout(0.1))  # added to reduce overfitting\n",
        "model.add(Dense(32,activation='relu'))\n",
        "model.add(Dropout(0.1))  # added to reduce overfitting\n",
        "model.add(Dense(1,activation='sigmoid'))  #output layer"
      ],
      "metadata": {
        "id": "xH6AF430ENXM"
      },
      "execution_count": 27,
      "outputs": []
    },
    {
      "cell_type": "code",
      "source": [
        "from keras.optimizers import Adam\n",
        "model.compile(optimizer=Adam(learning_rate=0.001),loss='binary_crossentropy',metrics=['accuracy']) #binary_crossentropy - binary classification"
      ],
      "metadata": {
        "id": "UEUwUAOsEwdt"
      },
      "execution_count": 28,
      "outputs": []
    },
    {
      "cell_type": "code",
      "source": [
        "history = model.fit(train_data, epochs=70, validation_data=validation_data)"
      ],
      "metadata": {
        "colab": {
          "base_uri": "https://localhost:8080/"
        },
        "id": "_gKJd6rGEx2F",
        "outputId": "4d3255ab-682c-4791-b7f8-6501ec11f6af"
      },
      "execution_count": 29,
      "outputs": [
        {
          "output_type": "stream",
          "name": "stdout",
          "text": [
            "Epoch 1/70\n",
            "9/9 [==============================] - 33s 3s/step - loss: 37.2828 - accuracy: 0.5420 - val_loss: 1.6206 - val_accuracy: 0.5938\n",
            "Epoch 2/70\n",
            "9/9 [==============================] - 29s 3s/step - loss: 21.2768 - accuracy: 0.6756 - val_loss: 2.5481 - val_accuracy: 0.5781\n",
            "Epoch 3/70\n",
            "9/9 [==============================] - 31s 3s/step - loss: 14.7654 - accuracy: 0.7290 - val_loss: 19.2138 - val_accuracy: 0.5156\n",
            "Epoch 4/70\n",
            "9/9 [==============================] - 29s 3s/step - loss: 9.7713 - accuracy: 0.7863 - val_loss: 4.6595 - val_accuracy: 0.5312\n",
            "Epoch 5/70\n",
            "9/9 [==============================] - 30s 4s/step - loss: 4.9588 - accuracy: 0.8321 - val_loss: 4.8001 - val_accuracy: 0.6250\n",
            "Epoch 6/70\n",
            "9/9 [==============================] - 30s 3s/step - loss: 2.8734 - accuracy: 0.8779 - val_loss: 2.0994 - val_accuracy: 0.6250\n",
            "Epoch 7/70\n",
            "9/9 [==============================] - 27s 3s/step - loss: 2.6210 - accuracy: 0.9046 - val_loss: 5.5572 - val_accuracy: 0.5625\n",
            "Epoch 8/70\n",
            "9/9 [==============================] - 33s 3s/step - loss: 1.7439 - accuracy: 0.9427 - val_loss: 2.6546 - val_accuracy: 0.6094\n",
            "Epoch 9/70\n",
            "9/9 [==============================] - 28s 3s/step - loss: 1.8263 - accuracy: 0.9160 - val_loss: 1.8078 - val_accuracy: 0.5781\n",
            "Epoch 10/70\n",
            "9/9 [==============================] - 30s 3s/step - loss: 3.5911 - accuracy: 0.8740 - val_loss: 4.8285 - val_accuracy: 0.5469\n",
            "Epoch 11/70\n",
            "9/9 [==============================] - 29s 3s/step - loss: 2.7715 - accuracy: 0.8855 - val_loss: 2.6710 - val_accuracy: 0.6094\n",
            "Epoch 12/70\n",
            "9/9 [==============================] - 26s 3s/step - loss: 2.3610 - accuracy: 0.9122 - val_loss: 3.1190 - val_accuracy: 0.6250\n",
            "Epoch 13/70\n",
            "9/9 [==============================] - 28s 3s/step - loss: 2.9248 - accuracy: 0.8893 - val_loss: 1.6984 - val_accuracy: 0.6875\n",
            "Epoch 14/70\n",
            "9/9 [==============================] - 29s 3s/step - loss: 1.1697 - accuracy: 0.9351 - val_loss: 3.8336 - val_accuracy: 0.5781\n",
            "Epoch 15/70\n",
            "9/9 [==============================] - 29s 3s/step - loss: 0.2140 - accuracy: 0.9695 - val_loss: 4.2375 - val_accuracy: 0.6250\n",
            "Epoch 16/70\n",
            "9/9 [==============================] - 30s 4s/step - loss: 1.0475 - accuracy: 0.9389 - val_loss: 3.6759 - val_accuracy: 0.6094\n",
            "Epoch 17/70\n",
            "9/9 [==============================] - 30s 3s/step - loss: 0.6851 - accuracy: 0.9542 - val_loss: 4.9706 - val_accuracy: 0.6094\n",
            "Epoch 18/70\n",
            "9/9 [==============================] - 27s 3s/step - loss: 0.7794 - accuracy: 0.9733 - val_loss: 6.3914 - val_accuracy: 0.6094\n",
            "Epoch 19/70\n",
            "9/9 [==============================] - 29s 3s/step - loss: 0.1653 - accuracy: 0.9924 - val_loss: 7.8008 - val_accuracy: 0.6406\n",
            "Epoch 20/70\n",
            "9/9 [==============================] - 29s 3s/step - loss: 0.5260 - accuracy: 0.9618 - val_loss: 6.1723 - val_accuracy: 0.6250\n",
            "Epoch 21/70\n",
            "9/9 [==============================] - 28s 3s/step - loss: 0.1337 - accuracy: 0.9847 - val_loss: 5.2724 - val_accuracy: 0.6719\n",
            "Epoch 22/70\n",
            "9/9 [==============================] - 29s 3s/step - loss: 0.6228 - accuracy: 0.9618 - val_loss: 8.5695 - val_accuracy: 0.5938\n",
            "Epoch 23/70\n",
            "9/9 [==============================] - 31s 3s/step - loss: 1.1643 - accuracy: 0.9656 - val_loss: 4.8287 - val_accuracy: 0.6250\n",
            "Epoch 24/70\n",
            "9/9 [==============================] - 29s 3s/step - loss: 0.6594 - accuracy: 0.9733 - val_loss: 7.1098 - val_accuracy: 0.6562\n",
            "Epoch 25/70\n",
            "9/9 [==============================] - 32s 4s/step - loss: 2.4628 - accuracy: 0.9122 - val_loss: 9.0946 - val_accuracy: 0.5469\n",
            "Epoch 26/70\n",
            "9/9 [==============================] - 29s 3s/step - loss: 1.5402 - accuracy: 0.9275 - val_loss: 5.8688 - val_accuracy: 0.5312\n",
            "Epoch 27/70\n",
            "9/9 [==============================] - 29s 3s/step - loss: 1.2083 - accuracy: 0.9542 - val_loss: 9.1398 - val_accuracy: 0.6094\n",
            "Epoch 28/70\n",
            "9/9 [==============================] - 32s 4s/step - loss: 1.1032 - accuracy: 0.9695 - val_loss: 5.2173 - val_accuracy: 0.6250\n",
            "Epoch 29/70\n",
            "9/9 [==============================] - 29s 3s/step - loss: 1.5468 - accuracy: 0.9389 - val_loss: 7.9974 - val_accuracy: 0.6406\n",
            "Epoch 30/70\n",
            "9/9 [==============================] - 30s 3s/step - loss: 2.2157 - accuracy: 0.9351 - val_loss: 10.3966 - val_accuracy: 0.6562\n",
            "Epoch 31/70\n",
            "9/9 [==============================] - 30s 3s/step - loss: 0.7709 - accuracy: 0.9542 - val_loss: 19.3735 - val_accuracy: 0.6094\n",
            "Epoch 32/70\n",
            "9/9 [==============================] - 29s 3s/step - loss: 2.5065 - accuracy: 0.9389 - val_loss: 12.3860 - val_accuracy: 0.7031\n",
            "Epoch 33/70\n",
            "9/9 [==============================] - 29s 3s/step - loss: 0.2191 - accuracy: 0.9771 - val_loss: 12.0883 - val_accuracy: 0.7188\n",
            "Epoch 34/70\n",
            "9/9 [==============================] - 29s 3s/step - loss: 0.5465 - accuracy: 0.9771 - val_loss: 10.9742 - val_accuracy: 0.6406\n",
            "Epoch 35/70\n",
            "9/9 [==============================] - 29s 4s/step - loss: 0.6525 - accuracy: 0.9733 - val_loss: 10.3403 - val_accuracy: 0.6719\n",
            "Epoch 36/70\n",
            "9/9 [==============================] - 28s 3s/step - loss: 0.2833 - accuracy: 0.9847 - val_loss: 11.3811 - val_accuracy: 0.6094\n",
            "Epoch 37/70\n",
            "9/9 [==============================] - 29s 3s/step - loss: 0.2506 - accuracy: 0.9733 - val_loss: 10.3136 - val_accuracy: 0.6094\n",
            "Epoch 38/70\n",
            "9/9 [==============================] - 29s 3s/step - loss: 0.1535 - accuracy: 0.9885 - val_loss: 8.6072 - val_accuracy: 0.6250\n",
            "Epoch 39/70\n",
            "9/9 [==============================] - 29s 3s/step - loss: 0.2103 - accuracy: 0.9847 - val_loss: 8.1952 - val_accuracy: 0.6406\n",
            "Epoch 40/70\n",
            "9/9 [==============================] - 27s 3s/step - loss: 0.0757 - accuracy: 0.9885 - val_loss: 9.5877 - val_accuracy: 0.5938\n",
            "Epoch 41/70\n",
            "9/9 [==============================] - 28s 3s/step - loss: 0.1264 - accuracy: 0.9924 - val_loss: 10.1737 - val_accuracy: 0.5625\n",
            "Epoch 42/70\n",
            "9/9 [==============================] - 29s 3s/step - loss: 0.1236 - accuracy: 0.9847 - val_loss: 10.7914 - val_accuracy: 0.5312\n",
            "Epoch 43/70\n",
            "9/9 [==============================] - 28s 3s/step - loss: 0.0885 - accuracy: 0.9885 - val_loss: 13.5520 - val_accuracy: 0.5469\n",
            "Epoch 44/70\n",
            "9/9 [==============================] - 29s 3s/step - loss: 8.9110e-04 - accuracy: 1.0000 - val_loss: 15.5013 - val_accuracy: 0.5938\n",
            "Epoch 45/70\n",
            "9/9 [==============================] - 28s 3s/step - loss: 0.4425 - accuracy: 0.9924 - val_loss: 13.6437 - val_accuracy: 0.6094\n",
            "Epoch 46/70\n",
            "9/9 [==============================] - 29s 3s/step - loss: 0.2688 - accuracy: 0.9809 - val_loss: 7.8731 - val_accuracy: 0.6875\n",
            "Epoch 47/70\n",
            "9/9 [==============================] - 31s 4s/step - loss: 0.6387 - accuracy: 0.9809 - val_loss: 7.9863 - val_accuracy: 0.6406\n",
            "Epoch 48/70\n",
            "9/9 [==============================] - 30s 3s/step - loss: 0.5003 - accuracy: 0.9771 - val_loss: 6.0160 - val_accuracy: 0.6094\n",
            "Epoch 49/70\n",
            "9/9 [==============================] - 28s 3s/step - loss: 0.0920 - accuracy: 0.9924 - val_loss: 5.2899 - val_accuracy: 0.7031\n",
            "Epoch 50/70\n",
            "9/9 [==============================] - 28s 3s/step - loss: 0.1122 - accuracy: 0.9924 - val_loss: 7.7416 - val_accuracy: 0.7344\n",
            "Epoch 51/70\n",
            "9/9 [==============================] - 29s 3s/step - loss: 0.0641 - accuracy: 0.9885 - val_loss: 9.9348 - val_accuracy: 0.6562\n",
            "Epoch 52/70\n",
            "9/9 [==============================] - 33s 4s/step - loss: 0.1534 - accuracy: 0.9962 - val_loss: 10.0460 - val_accuracy: 0.6719\n",
            "Epoch 53/70\n",
            "9/9 [==============================] - 29s 3s/step - loss: 0.1089 - accuracy: 0.9924 - val_loss: 15.3611 - val_accuracy: 0.6250\n",
            "Epoch 54/70\n",
            "9/9 [==============================] - 30s 3s/step - loss: 0.0647 - accuracy: 0.9962 - val_loss: 19.1282 - val_accuracy: 0.6094\n",
            "Epoch 55/70\n",
            "9/9 [==============================] - 30s 3s/step - loss: 0.1640 - accuracy: 0.9885 - val_loss: 12.0242 - val_accuracy: 0.6406\n",
            "Epoch 56/70\n",
            "9/9 [==============================] - 30s 3s/step - loss: 0.1664 - accuracy: 0.9847 - val_loss: 7.7109 - val_accuracy: 0.6562\n",
            "Epoch 57/70\n",
            "9/9 [==============================] - 30s 3s/step - loss: 0.1205 - accuracy: 0.9847 - val_loss: 8.6958 - val_accuracy: 0.7188\n",
            "Epoch 58/70\n",
            "9/9 [==============================] - 31s 3s/step - loss: 0.1725 - accuracy: 0.9847 - val_loss: 9.8841 - val_accuracy: 0.6875\n",
            "Epoch 59/70\n",
            "9/9 [==============================] - 30s 3s/step - loss: 0.2792 - accuracy: 0.9885 - val_loss: 11.6167 - val_accuracy: 0.6719\n",
            "Epoch 60/70\n",
            "9/9 [==============================] - 29s 3s/step - loss: 0.1588 - accuracy: 0.9847 - val_loss: 9.2254 - val_accuracy: 0.7031\n",
            "Epoch 61/70\n",
            "9/9 [==============================] - 30s 3s/step - loss: 0.0305 - accuracy: 0.9885 - val_loss: 9.3862 - val_accuracy: 0.6719\n",
            "Epoch 62/70\n",
            "9/9 [==============================] - 30s 3s/step - loss: 0.2107 - accuracy: 0.9924 - val_loss: 8.7253 - val_accuracy: 0.6719\n",
            "Epoch 63/70\n",
            "9/9 [==============================] - 29s 3s/step - loss: 0.8852 - accuracy: 0.9847 - val_loss: 9.4389 - val_accuracy: 0.6562\n",
            "Epoch 64/70\n",
            "9/9 [==============================] - 28s 3s/step - loss: 1.4037 - accuracy: 0.9656 - val_loss: 9.7997 - val_accuracy: 0.7188\n",
            "Epoch 65/70\n",
            "9/9 [==============================] - 30s 3s/step - loss: 0.0850 - accuracy: 0.9885 - val_loss: 11.4546 - val_accuracy: 0.7656\n",
            "Epoch 66/70\n",
            "9/9 [==============================] - 29s 3s/step - loss: 0.7479 - accuracy: 0.9733 - val_loss: 14.0511 - val_accuracy: 0.7656\n",
            "Epoch 67/70\n",
            "9/9 [==============================] - 31s 3s/step - loss: 0.3777 - accuracy: 0.9924 - val_loss: 11.3696 - val_accuracy: 0.7188\n",
            "Epoch 68/70\n",
            "9/9 [==============================] - 27s 3s/step - loss: 0.0033 - accuracy: 1.0000 - val_loss: 15.4717 - val_accuracy: 0.7188\n",
            "Epoch 69/70\n",
            "9/9 [==============================] - 28s 3s/step - loss: 0.0919 - accuracy: 0.9924 - val_loss: 13.0512 - val_accuracy: 0.7188\n",
            "Epoch 70/70\n",
            "9/9 [==============================] - 30s 3s/step - loss: 0.0224 - accuracy: 0.9962 - val_loss: 10.8643 - val_accuracy: 0.7188\n"
          ]
        }
      ]
    },
    {
      "cell_type": "code",
      "source": [
        "import matplotlib.pyplot as plt\n",
        "\n",
        "plt.plot(history.history['accuracy'],color='red',label='train')\n",
        "plt.plot(history.history['val_accuracy'],color='blue',label='validation')\n",
        "plt.legend()\n",
        "plt.show()\n"
      ],
      "metadata": {
        "colab": {
          "base_uri": "https://localhost:8080/",
          "height": 430
        },
        "id": "RT2gr17VKltO",
        "outputId": "809792a7-fd46-43dd-d290-891e4b2b92b6"
      },
      "execution_count": 30,
      "outputs": [
        {
          "output_type": "display_data",
          "data": {
            "text/plain": [
              "<Figure size 640x480 with 1 Axes>"
            ],
            "image/png": "[encoded data removed]"
          },
          "metadata": {}
        }
      ]
    },
    {
      "cell_type": "code",
      "source": [
        "plt.plot(history.history['loss'],color='red',label='train')\n",
        "plt.plot(history.history['val_loss'],color='blue',label='validation')\n",
        "plt.legend()\n",
        "plt.show()"
      ],
      "metadata": {
        "colab": {
          "base_uri": "https://localhost:8080/",
          "height": 430
        },
        "id": "cwfJQO8FK-6M",
        "outputId": "5f1afe87-71ba-46f0-8cb2-95bec03c6ef8"
      },
      "execution_count": 31,
      "outputs": [
        {
          "output_type": "display_data",
          "data": {
            "text/plain": [
              "<Figure size 640x480 with 1 Axes>"
            ],
            "image/png": "[encoded data removed]"
          },
          "metadata": {}
        }
      ]
    },
    {
      "cell_type": "code",
      "source": [
        "test_datagen = ImageDataGenerator(rescale=1./255)\n",
        "test_data = test_datagen.flow_from_directory(\n",
        "    test_dir,\n",
        "    target_size=(256,256),\n",
        "    batch_size=32,\n",
        "    class_mode='binary'\n",
        ")"
      ],
      "metadata": {
        "colab": {
          "base_uri": "https://localhost:8080/"
        },
        "id": "v_Q3LMhWLZPd",
        "outputId": "1395588f-ce01-45ff-d5d5-2a3832b4b67d"
      },
      "execution_count": 32,
      "outputs": [
        {
          "output_type": "stream",
          "name": "stdout",
          "text": [
            "Found 66 images belonging to 2 classes.\n"
          ]
        }
      ]
    },
    {
      "cell_type": "code",
      "source": [
        "#predict the test data\n",
        "predictions = model.predict(test_data)\n",
        "print(predictions)"
      ],
      "metadata": {
        "colab": {
          "base_uri": "https://localhost:8080/"
        },
        "id": "allyitZXLchY",
        "outputId": "3677e44e-5f7d-460c-fbd4-9d390ae23456"
      },
      "execution_count": 34,
      "outputs": [
        {
          "output_type": "stream",
          "name": "stdout",
          "text": [
            "3/3 [==============================] - 10s 4s/step\n",
            "[[1.0000000e+00]\n",
            " [0.0000000e+00]\n",
            " [2.9928702e-31]\n",
            " [1.0840066e-18]\n",
            " [1.0000000e+00]\n",
            " [1.0000000e+00]\n",
            " [0.0000000e+00]\n",
            " [5.5618654e-10]\n",
            " [6.1073457e-26]\n",
            " [1.0000000e+00]\n",
            " [8.3371691e-15]\n",
            " [1.0000000e+00]\n",
            " [5.7766195e-11]\n",
            " [1.1888442e-22]\n",
            " [0.0000000e+00]\n",
            " [1.0000000e+00]\n",
            " [8.4435514e-24]\n",
            " [1.0000000e+00]\n",
            " [6.1231009e-38]\n",
            " [0.0000000e+00]\n",
            " [1.0000000e+00]\n",
            " [0.0000000e+00]\n",
            " [1.0000000e+00]\n",
            " [1.0000000e+00]\n",
            " [8.7698530e-26]\n",
            " [9.9999994e-01]\n",
            " [1.3374591e-11]\n",
            " [0.0000000e+00]\n",
            " [1.0000000e+00]\n",
            " [1.0000000e+00]\n",
            " [0.0000000e+00]\n",
            " [1.0000000e+00]\n",
            " [1.0000000e+00]\n",
            " [9.9733144e-01]\n",
            " [0.0000000e+00]\n",
            " [1.0000000e+00]\n",
            " [3.3488231e-18]\n",
            " [0.0000000e+00]\n",
            " [0.0000000e+00]\n",
            " [9.7606247e-19]\n",
            " [6.8459565e-34]\n",
            " [1.0000000e+00]\n",
            " [0.0000000e+00]\n",
            " [1.5027787e-12]\n",
            " [9.9154849e-23]\n",
            " [9.9999851e-01]\n",
            " [0.0000000e+00]\n",
            " [4.7392668e-28]\n",
            " [1.0000000e+00]\n",
            " [1.0000000e+00]\n",
            " [1.0000000e+00]\n",
            " [0.0000000e+00]\n",
            " [2.9771071e-26]\n",
            " [2.2713763e-28]\n",
            " [1.0000000e+00]\n",
            " [1.0000000e+00]\n",
            " [1.0000000e+00]\n",
            " [7.9310670e-26]\n",
            " [0.0000000e+00]\n",
            " [4.3990531e-09]\n",
            " [1.0000000e+00]\n",
            " [1.0000000e+00]\n",
            " [1.6202205e-09]\n",
            " [2.0475339e-16]\n",
            " [3.8228012e-13]\n",
            " [0.0000000e+00]]\n"
          ]
        }
      ]
    },
    {
      "cell_type": "code",
      "source": [
        "len(predictions)"
      ],
      "metadata": {
        "colab": {
          "base_uri": "https://localhost:8080/"
        },
        "id": "tV9n9v6lLtoP",
        "outputId": "5632520c-682b-4475-c3f1-a51a2b2c46cb"
      },
      "execution_count": 35,
      "outputs": [
        {
          "output_type": "execute_result",
          "data": {
            "text/plain": [
              "66"
            ]
          },
          "metadata": {},
          "execution_count": 35
        }
      ]
    },
    {
      "cell_type": "code",
      "source": [
        "from sklearn.metrics import confusion_matrix, classification_report\n",
        "\n",
        "# Assuming you have ground truth labels (true_labels) and predicted labels (predictions)\n",
        "true_labels = test_data.classes\n",
        "predicted_labels = (predictions > 0.5).astype(int)  # Adjust the threshold as needed\n",
        "\n",
        "# Calculate confusion matrix\n",
        "cm = confusion_matrix(true_labels, predicted_labels)\n",
        "\n",
        "# Print confusion matrix\n",
        "print(\"Confusion Matrix:\")\n",
        "print(cm)\n",
        "\n",
        "# Print classification report\n",
        "print(\"Classification Report:\")\n",
        "print(classification_report(true_labels, predicted_labels))"
      ],
      "metadata": {
        "colab": {
          "base_uri": "https://localhost:8080/"
        },
        "id": "MV97rnFfLwcR",
        "outputId": "ad1d3b43-4314-4445-f1da-29fa3a2f996b"
      },
      "execution_count": 36,
      "outputs": [
        {
          "output_type": "stream",
          "name": "stdout",
          "text": [
            "Confusion Matrix:\n",
            "[[18 15]\n",
            " [21 12]]\n",
            "Classification Report:\n",
            "              precision    recall  f1-score   support\n",
            "\n",
            "           0       0.46      0.55      0.50        33\n",
            "           1       0.44      0.36      0.40        33\n",
            "\n",
            "    accuracy                           0.45        66\n",
            "   macro avg       0.45      0.45      0.45        66\n",
            "weighted avg       0.45      0.45      0.45        66\n",
            "\n"
          ]
        }
      ]
    }
  ]
}